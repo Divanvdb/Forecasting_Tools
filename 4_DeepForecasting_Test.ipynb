{
 "cells": [
  {
   "cell_type": "markdown",
   "metadata": {},
   "source": [
    "# Imports"
   ]
  },
  {
   "cell_type": "code",
   "execution_count": 2,
   "metadata": {},
   "outputs": [],
   "source": [
    "import pandas as pd\n",
    "import numpy as np\n",
    "\n",
    "import matplotlib.pyplot as plt\n",
    "\n",
    "import tensorflow as tf\n",
    "\n",
    "import torch\n",
    "from torch import nn\n",
    "from torch.utils.data import DataLoader, TensorDataset, Dataset\n",
    "import torchmetrics\n",
    "import torch.nn.functional as F\n",
    "\n",
    "import lightning as L\n",
    "from lightning.pytorch.callbacks.early_stopping import EarlyStopping\n",
    "\n",
    "from sklearn.preprocessing import MinMaxScaler"
   ]
  },
  {
   "cell_type": "markdown",
   "metadata": {},
   "source": [
    "# Utilities"
   ]
  },
  {
   "cell_type": "code",
   "execution_count": 104,
   "metadata": {},
   "outputs": [],
   "source": [
    "target_col = 0\n",
    "\n",
    "class WeatherDataModule(L.LightningDataModule):\n",
    "    def __init__(self, data_dir=\"data\\current_weather_data.csv\", index_='timestamp', \n",
    "                 column=0, batch_size=64, window_size=5, normalize_=False,\n",
    "                 date_range = None, step_ = 24):\n",
    "        super().__init__()\n",
    "        self.data_dir = data_dir\n",
    "        self.batch_size = batch_size\n",
    "        self.index_ = index_\n",
    "        self.column = column\n",
    "        self.date_range = date_range\n",
    "        self.window_size = window_size\n",
    "        self.step_ = step_\n",
    "\n",
    "        self.normalize_ = normalize_\n",
    "\n",
    "    def prepare_data(self):\n",
    "        df_ = pd.read_csv(self.data_dir, index_col=self.index_, parse_dates=True)\n",
    "        if self.date_range != None:\n",
    "            df_ = df_[self.date_range]\n",
    "        \n",
    "        if self.column == None:\n",
    "            self.df = df_\n",
    "        else:\n",
    "            self.df = df_.iloc[:,self.column]\n",
    "        \n",
    "        if self.normalize_:\n",
    "            self.scaler = MinMaxScaler()\n",
    "            self.scaler.fit(self.df.values.reshape(-1, 1))\n",
    "            self.df = self.normalize(self.df)\n",
    "\n",
    "        self.windows, self.targets = self.window_step(self.df, self.step_)\n",
    "        self.windows, self.targets = self.windows.squeeze(), self.targets.squeeze()\n",
    "\n",
    "    def window_step(self, dataset, step_ ):\n",
    "        \"\"\"Transform a time series into a prediction dataset\n",
    "        \n",
    "        Args:\n",
    "            dataset: A numpy array of time series, first dimension is the time steps\n",
    "            lookback: Size of window for prediction\n",
    "        \"\"\"\n",
    "        X, y = [], []\n",
    "        for i in range(len(dataset)-self.window_size - step_):\n",
    "            feature = dataset[i:i+self.window_size]\n",
    "            target = dataset[i+self.window_size:i+self.window_size+step_]\n",
    "            X.append(feature)\n",
    "            y.append(target)\n",
    "\n",
    "        X_r = torch.tensor(np.array(X))\n",
    "        y_r = torch.tensor(np.array(y))\n",
    "        return np.array(X), np.array(y)\n",
    "    \n",
    "    def normalize(self, series):\n",
    "        if self.column == None:\n",
    "            return pd.DataFrame(self.scaler.fit_transform(series), index=series.index)\n",
    "        else:\n",
    "            return pd.DataFrame(self.scaler.fit_transform(series.values.reshape(-1, 1)), index=series.index)\n",
    "    \n",
    "    def inverse_normalze(self, series):\n",
    "        if self.column == None:\n",
    "            return pd.DataFrame(self.scaler.inverse_transform(series), index=series.index)\n",
    "        else:\n",
    "            return pd.DataFrame(self.scaler.inverse_transform(series.values.reshape(-1, 1)), index=series.index)\n",
    "    \n",
    "    def inverse_single_column(self, series):\n",
    "        if self.column == None:\n",
    "            zeros_ = pd.DataFrame(np.zeros((series.shape[0], self.df.shape[1])))\n",
    "            zeros_[target_col] = series \n",
    "            return pd.DataFrame(self.scaler.inverse_transform(zeros_))[target_col]\n",
    "        else:\n",
    "            return pd.DataFrame(self.scaler.inverse_transform(series.reshape(-1, 1)))\n",
    "\n",
    "    def setup(self, stage: str):\n",
    "        self.split = [round(len(self.df) * 0.7), round(len(self.df) * 0.9)]\n",
    "\n",
    "        self.f_train, self.t_train = self.windows[:self.split[0]], self.targets[:self.split[0]]\n",
    "        self.f_valid, self.t_valid = self.windows[self.split[0]:self.split[1]], self.targets[self.split[0]:self.split[1]]\n",
    "        self.f_test, self.t_test = self.windows[self.split[1]:], self.targets[self.split[1]:]\n",
    "\n",
    "        print(f'Train: {self.f_train.shape}\\nValid: {self.f_valid.shape}\\nTest: {self.f_test.shape}')\n",
    "\n",
    "    def train_dataloader(self):\n",
    "        return DataLoader(TensorDataset(self.f_train, self.t_train), batch_size=self.batch_size, shuffle=True, drop_last=True)\n",
    "\n",
    "    def val_dataloader(self):\n",
    "        return DataLoader(TensorDataset(self.f_train, self.t_train), batch_size=self.batch_size, shuffle=False)\n",
    "\n",
    "    def test_dataloader(self):\n",
    "        return DataLoader(TensorDataset(self.f_train, self.t_train), batch_size=self.batch_size, shuffle=False)\n",
    "\n",
    "    # def predict_dataloader(self):\n",
    "    #     return DataLoader(self.mnist_predict, batch_size=self.batch_size, shuffle=False)\n",
    "\n",
    "class LightningModel(L.LightningModule):\n",
    "    def __init__(self, model, learning_rate, adam_ = False):\n",
    "        super().__init__()\n",
    "\n",
    "        self.learning_rate = learning_rate\n",
    "        self.model = model\n",
    "        self.adam_ = adam_\n",
    "\n",
    "        self.save_hyperparameters(ignore=['model'])\n",
    "\n",
    "    def forward(self, x):\n",
    "        return self.model(x)\n",
    "\n",
    "    def training_step(self, batch, batch_idx):\n",
    "        features, true_labels = batch\n",
    "        logits = self(features)\n",
    "        loss = F.mse_loss(logits, true_labels)\n",
    "        self.log(\"train_loss\", loss)\n",
    "        return loss  # this is passed to the optimizer for training\n",
    "\n",
    "    def validation_step(self, batch, batch_idx):\n",
    "        features, true_labels = batch\n",
    "        logits = self(features)\n",
    "        loss = F.mse_loss(logits, true_labels)\n",
    "        self.log(\"val_loss\", loss, prog_bar=True)\n",
    "\n",
    "    def configure_optimizers(self):\n",
    "        if self.adam_:\n",
    "            optimizer = torch.optim.Adam(self.parameters(), lr=self.learning_rate)\n",
    "        else:\n",
    "            optimizer = torch.optim.SGD(self.parameters(), lr=self.learning_rate)\n",
    "        return optimizer\n",
    "\n",
    "class PyTorchMLP_UNI(torch.nn.Module):\n",
    "    def __init__(self, num_features, hidden_size = [50, 25], num_classes = 1):\n",
    "        super().__init__()\n",
    "\n",
    "        self.all_layers = torch.nn.Sequential(\n",
    "            # # 1st hidden layer\n",
    "            # torch.nn.Flatten(),\n",
    "            torch.nn.Linear(num_features, hidden_size[0]),\n",
    "            torch.nn.ReLU(),\n",
    "            # 2nd hidden layer\n",
    "            torch.nn.Linear(hidden_size[0], hidden_size[1]),\n",
    "            torch.nn.ReLU(),\n",
    "            # output layer\n",
    "            torch.nn.Linear(hidden_size[1], num_classes),\n",
    "        )\n",
    "\n",
    "    def forward(self, x):\n",
    "        # x = torch.flatten(x, start_dim=1)\n",
    "        # x = x.to(torch.float32)\n",
    "        logits = self.all_layers(x)\n",
    "        return logits\n"
   ]
  },
  {
   "cell_type": "markdown",
   "metadata": {},
   "source": [
    "# Setup"
   ]
  },
  {
   "cell_type": "code",
   "execution_count": 224,
   "metadata": {},
   "outputs": [
    {
     "name": "stdout",
     "output_type": "stream",
     "text": [
      "Train: (6050, 96)\n",
      "Valid: (1729, 96)\n",
      "Test: (744, 96)\n"
     ]
    }
   ],
   "source": [
    "train_ = False\n",
    "uni = True\n",
    "\n",
    "window_size = 24*4 \n",
    "step = 24\n",
    "\n",
    "if uni:\n",
    "    column_ = 0\n",
    "else:\n",
    "    column_ = None\n",
    "\n",
    "dm = WeatherDataModule(data_dir='data\\Sere Wind Farm_hourly_OWM.csv', \n",
    "                       window_size=window_size, column=column_,\n",
    "                       batch_size=32, step_=step, \n",
    "                       normalize_=True)\n",
    "\n",
    "dm.prepare_data()\n",
    "dm.setup('')\n",
    "\n",
    "# Sanitity Check\n",
    "if False:\n",
    "    plt.plot(np.arange(window_size),dm.f_test[0], label='Input')\n",
    "    plt.scatter(np.arange(window_size, window_size+step),dm.t_test[0], label='Target', s=5, c='r')\n",
    "    plt.legend()\n",
    "    plt.show()\n",
    "\n"
   ]
  },
  {
   "cell_type": "markdown",
   "metadata": {},
   "source": [
    "# Train"
   ]
  },
  {
   "cell_type": "code",
   "execution_count": 225,
   "metadata": {},
   "outputs": [
    {
     "name": "stdout",
     "output_type": "stream",
     "text": [
      "Epoch 1/150\n",
      "190/190 [==============================] - 1s 2ms/step - loss: 0.0454 - val_loss: 0.0258\n",
      "Epoch 2/150\n",
      "151/190 [======================>.......] - ETA: 0s - loss: 0.0254"
     ]
    },
    {
     "name": "stderr",
     "output_type": "stream",
     "text": [
      "c:\\Users\\23603526\\AppData\\Local\\Programs\\Python\\Python311\\Lib\\site-packages\\keras\\src\\engine\\training.py:3103: UserWarning: You are saving your model as an HDF5 file via `model.save()`. This file format is considered legacy. We recommend using instead the native Keras format, e.g. `model.save('my_model.keras')`.\n",
      "  saving_api.save_model(\n"
     ]
    },
    {
     "name": "stdout",
     "output_type": "stream",
     "text": [
      "190/190 [==============================] - 0s 1ms/step - loss: 0.0254 - val_loss: 0.0217\n",
      "Epoch 3/150\n",
      "190/190 [==============================] - 0s 1ms/step - loss: 0.0239 - val_loss: 0.0221\n",
      "Epoch 4/150\n",
      "190/190 [==============================] - 0s 1ms/step - loss: 0.0234 - val_loss: 0.0196\n",
      "Epoch 5/150\n",
      "190/190 [==============================] - 0s 1ms/step - loss: 0.0227 - val_loss: 0.0194\n",
      "Epoch 6/150\n",
      "190/190 [==============================] - 0s 2ms/step - loss: 0.0226 - val_loss: 0.0190\n",
      "Epoch 7/150\n",
      "190/190 [==============================] - 0s 1ms/step - loss: 0.0224 - val_loss: 0.0188\n",
      "Epoch 8/150\n",
      "190/190 [==============================] - 0s 1ms/step - loss: 0.0221 - val_loss: 0.0192\n",
      "Epoch 9/150\n",
      "190/190 [==============================] - 0s 1ms/step - loss: 0.0221 - val_loss: 0.0195\n",
      "Epoch 10/150\n",
      "190/190 [==============================] - 0s 1ms/step - loss: 0.0219 - val_loss: 0.0188\n",
      "Epoch 11/150\n",
      "190/190 [==============================] - 0s 1ms/step - loss: 0.0216 - val_loss: 0.0180\n",
      "Epoch 12/150\n",
      "190/190 [==============================] - 0s 2ms/step - loss: 0.0215 - val_loss: 0.0194\n",
      "Epoch 13/150\n",
      "190/190 [==============================] - 0s 2ms/step - loss: 0.0215 - val_loss: 0.0184\n",
      "Epoch 14/150\n",
      "190/190 [==============================] - 0s 1ms/step - loss: 0.0214 - val_loss: 0.0179\n",
      "Epoch 15/150\n",
      "190/190 [==============================] - 0s 1ms/step - loss: 0.0211 - val_loss: 0.0182\n",
      "Epoch 16/150\n",
      "190/190 [==============================] - 0s 1ms/step - loss: 0.0211 - val_loss: 0.0180\n",
      "Epoch 17/150\n",
      "190/190 [==============================] - 0s 1ms/step - loss: 0.0208 - val_loss: 0.0188\n",
      "Epoch 18/150\n",
      "190/190 [==============================] - 0s 1ms/step - loss: 0.0207 - val_loss: 0.0198\n",
      "Epoch 19/150\n",
      "190/190 [==============================] - 0s 1ms/step - loss: 0.0207 - val_loss: 0.0184\n",
      "Epoch 20/150\n",
      "190/190 [==============================] - 0s 2ms/step - loss: 0.0204 - val_loss: 0.0192\n",
      "Epoch 21/150\n",
      "190/190 [==============================] - 0s 1ms/step - loss: 0.0202 - val_loss: 0.0180\n",
      "Epoch 22/150\n",
      "190/190 [==============================] - 0s 1ms/step - loss: 0.0202 - val_loss: 0.0186\n",
      "Epoch 23/150\n",
      "190/190 [==============================] - 0s 1ms/step - loss: 0.0203 - val_loss: 0.0198\n",
      "Epoch 24/150\n",
      "190/190 [==============================] - 0s 1ms/step - loss: 0.0199 - val_loss: 0.0179\n"
     ]
    },
    {
     "data": {
      "text/plain": [
       "<keras.src.callbacks.History at 0x1bc47f62b10>"
      ]
     },
     "execution_count": 225,
     "metadata": {},
     "output_type": "execute_result"
    }
   ],
   "source": [
    "from tensorflow.keras import Sequential\n",
    "from tensorflow.keras.layers import Dense\n",
    "from tensorflow.keras.callbacks import EarlyStopping, ModelCheckpoint\n",
    "\n",
    "early_stop = EarlyStopping(monitor='val_loss', patience=10, restore_best_weights=True)\n",
    "\n",
    "checkpoint_path = f\"deep_models/keras_model_ws_{window_size}_{step}.h5\"\n",
    "\n",
    "checkpoint = ModelCheckpoint(checkpoint_path, monitor='val_loss', save_best_only=True, mode='min')\n",
    "\n",
    "\n",
    "\n",
    "def build_model(hidden_size = [64, 32], out = 1, input_shape_ = dm.f_train.shape[1]):\n",
    "    model = Sequential()\n",
    "    model.add(Dense(hidden_size[0], input_shape=(input_shape_,)))\n",
    "    model.add(Dense(hidden_size[1], activation='relu'))\n",
    "    model.add(Dense(out))\n",
    "\n",
    "    return model\n",
    "\n",
    "model = build_model(hidden_size=[64, 32], out=step, input_shape_=dm.f_train.shape[1])\n",
    "\n",
    "model.compile(optimizer='adam', loss='mse')\n",
    "\n",
    "model.fit(dm.f_train, dm.t_train, validation_data=(dm.f_valid, dm.t_valid), epochs=150, batch_size=32, verbose=1, callbacks=[early_stop, checkpoint])\n",
    "\n",
    "#model.save(f'deep_models/keras_model_ws_{window_size}_{step}.h5')"
   ]
  },
  {
   "cell_type": "code",
   "execution_count": 226,
   "metadata": {},
   "outputs": [
    {
     "name": "stdout",
     "output_type": "stream",
     "text": [
      "55/55 [==============================] - 0s 914us/step - loss: 0.0179\n"
     ]
    },
    {
     "data": {
      "text/plain": [
       "0.017925530672073364"
      ]
     },
     "execution_count": 226,
     "metadata": {},
     "output_type": "execute_result"
    }
   ],
   "source": [
    "model.evaluate(dm.f_valid, dm.t_valid)"
   ]
  },
  {
   "cell_type": "markdown",
   "metadata": {},
   "source": [
    "# Test"
   ]
  },
  {
   "cell_type": "code",
   "execution_count": 227,
   "metadata": {},
   "outputs": [],
   "source": [
    "seed = 0\n"
   ]
  },
  {
   "cell_type": "code",
   "execution_count": 244,
   "metadata": {},
   "outputs": [
    {
     "name": "stdout",
     "output_type": "stream",
     "text": [
      "1/1 [==============================] - 0s 33ms/step\n"
     ]
    },
    {
     "data": {
      "image/png": "[encoded data removed]",
      "text/plain": [
       "<Figure size 640x480 with 1 Axes>"
      ]
     },
     "metadata": {},
     "output_type": "display_data"
    }
   ],
   "source": [
    "model_loaded = tf.keras.models.load_model(f'deep_models/keras_model_ws_{window_size}_{step}.h5')\n",
    "\n",
    "seed += 1\n",
    "\n",
    "prediction = model_loaded.predict(dm.f_valid[seed:seed+1]).squeeze()\n",
    "\n",
    "plt.plot(np.arange(window_size), dm.f_valid[seed], label='Input')\n",
    "plt.plot(np.arange(window_size,window_size + step), prediction, label='Predicted', c = 'r')\n",
    "plt.plot(np.arange(window_size,window_size + step), dm.t_valid[seed], label='True', c = 'g')\n",
    "plt.legend()\n",
    "plt.show()"
   ]
  }
 ],
 "metadata": {
  "kernelspec": {
   "display_name": "Python 3",
   "language": "python",
   "name": "python3"
  },
  "language_info": {
   "codemirror_mode": {
    "name": "ipython",
    "version": 3
   },
   "file_extension": ".py",
   "mimetype": "text/x-python",
   "name": "python",
   "nbconvert_exporter": "python",
   "pygments_lexer": "ipython3",
   "version": "3.11.7"
  }
 },
 "nbformat": 4,
 "nbformat_minor": 2
}
